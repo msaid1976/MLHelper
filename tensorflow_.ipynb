{
  "nbformat": 4,
  "nbformat_minor": 0,
  "metadata": {
    "colab": {
      "provenance": [],
      "authorship_tag": "ABX9TyOc8P7f0UmdEOucP+xiIVb9",
      "include_colab_link": true
    },
    "kernelspec": {
      "name": "python3",
      "display_name": "Python 3"
    },
    "language_info": {
      "name": "python"
    }
  },
  "cells": [
    {
      "cell_type": "markdown",
      "metadata": {
        "id": "view-in-github",
        "colab_type": "text"
      },
      "source": [
        "<a href=\"https://colab.research.google.com/github/msaid1976/MLHelper/blob/master/tensorflow_.ipynb\" target=\"_parent\"><img src=\"https://colab.research.google.com/assets/colab-badge.svg\" alt=\"Open In Colab\"/></a>"
      ]
    },
    {
      "cell_type": "code",
      "execution_count": 2,
      "metadata": {
        "id": "e18SXobNcD7_"
      },
      "outputs": [],
      "source": [
        "import tensorflow as tf\n",
        "import numpy as np\n",
        "from tensorflow import keras"
      ]
    },
    {
      "cell_type": "markdown",
      "source": [
        "**Define and compile the neural network**\n",
        "\n",
        "Next, create the simplest possible neural network. It has one layer, that layer has one neuron, and the input shape to it is only one value."
      ],
      "metadata": {
        "id": "QaRlqSXWim4q"
      }
    },
    {
      "cell_type": "code",
      "source": [
        "model = tf.keras.Sequential([keras.layers.Dense(units = 1,input_shape=[1])])"
      ],
      "metadata": {
        "id": "-TVINn6Ogh_k"
      },
      "execution_count": 3,
      "outputs": []
    },
    {
      "cell_type": "code",
      "source": [
        "model.compile(optimizer='sgd',loss='mean_squared_error')"
      ],
      "metadata": {
        "id": "7oTVI4oAhD95"
      },
      "execution_count": 4,
      "outputs": []
    },
    {
      "cell_type": "code",
      "source": [
        "xs = np.array([-1.0,0.0,1.0,2.0,3.0,4.0],dtype = float)\n",
        "ys = np.array([-2.0,1.0,4.0,7.0,10.0,13.0], dtype=float)\n",
        "# xs"
      ],
      "metadata": {
        "id": "N6C9dJmLhWWN"
      },
      "execution_count": 8,
      "outputs": []
    },
    {
      "cell_type": "markdown",
      "source": [
        "**Train the neural network**\n",
        "\n",
        "The process of training the neural network, where it learns the relationship between the X's and Y's, is in the model.fit call. That's where it will go through the loop before making a guess, measuring how good or bad it is (the loss), or using the optimizer to make another guess. It will do that for the number of epochs that you specify. When you run that code, you'll see the loss will be printed out for each epoch."
      ],
      "metadata": {
        "id": "C75w77Jqi4-y"
      }
    },
    {
      "cell_type": "code",
      "source": [
        "model.fit(xs,ys,epochs=50)"
      ],
      "metadata": {
        "id": "8xXD6XXmi8Ej"
      },
      "execution_count": null,
      "outputs": []
    },
    {
      "cell_type": "code",
      "source": [
        "print(model.predict([10]))"
      ],
      "metadata": {
        "colab": {
          "base_uri": "https://localhost:8080/"
        },
        "id": "XdJnwi6oj_zd",
        "outputId": "2ac7ba9f-a7fb-4e76-ebae-23fd15a7f12c"
      },
      "execution_count": 12,
      "outputs": [
        {
          "output_type": "stream",
          "name": "stdout",
          "text": [
            "1/1 [==============================] - 0s 37ms/step\n",
            "[[31.001966]]\n"
          ]
        }
      ]
    }
  ]
}